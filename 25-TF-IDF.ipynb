{
 "cells": [
  {
   "cell_type": "markdown",
   "metadata": {},
   "source": [
    "# TF-IDF\n",
    "## 단어 빈도의 문제\n",
    "- 단어 문서 행렬에서 한 문서는 단어 빈도를 통해 표현\n",
    "- <b>가정</b>: 단어 빈도가 비슷한 문서 = 의미가 비슷한 문서\n",
    "- 실제로는 정확하지 않음 (예: 특정 단어가 무의미하게 반복되는 경우)\n",
    "- 단어 빈도에 적절한 가중치를 주어 극복\n",
    "\n",
    "## 단어 빈도의 가중치들\n",
    "- binary: 단어의 빈도를 0 또는 1로만 표시 (1 이상도 1)\n",
    " - 무의미한 반복을 막을 수 있지만 극단적\n",
    " - 구체적으로 몇 번 나왔는지 안 중요한 경우\n",
    "- 로그 함수를 적용\n",
    " - 쓸데없이 많은 반복의 효과를 감소시킴\n",
    " - 많이 나오는 것의 효과를 줄이고 싶지만, binary처럼 아예 무시하고 싶지는 않을 때\n",
    "- 문서의 총 단어 빈도로 나눔 (글의 길이로 보정)\n",
    " - 문서의 길이가 제각각일 때\n",
    "- 가장 많은 단어의 빈도로 나눔\n",
    "\n",
    "## 문서 빈도 (Document Frequency)\n",
    "- 문서빈도(df): 각 단어가 등장한(tf > 0) 문서의 수\n",
    "- 역문서빈도(idf): 총 문서 수를 df로 나눈 값\n",
    " - 단어가 얼마나 드물게 등장하는지 알 수 있고, 다른 문서와의 차이를 보여줌\n",
    " - 단어에 대한 중요도로 사용됨\n",
    "- 여러 문서에 자주 나오면 df ↑, idf ↓\n",
    "- 문서 간의 차이가 중요한 상황에서는 idf가 높은 단어가 좋은 단어\n",
    "\n",
    "||맛집|시청|밥|\n",
    "|:---|:---:|:---:|:---:|\n",
    "|①|3|1|1|\n",
    "|②|2|0|2|\n",
    "|③|0|0|1|\n",
    "|④|0|0|3|\n",
    "|**df**|2|1|4|\n",
    "|**idf**|2|4|1|\n",
    "\n",
    "## TF-IDF\n",
    "```\n",
    "똑같이 자주 나오는 단어라고 해도, 모든 문서에 고르게 자주 나오는 단어는 특별한 의미가 없는 경우가 많다. 핸드폰 리뷰에서는 당연히 핸드폰이라는 단어가 자주 쓰이게지만, 어차피 모든 리뷰에 많이 나온다면 리뷰들 사이의 차이를 분석할 때는 크게 도움이 되지 않는다. TF-IDF는 이러한 측면을 고려하여 단어의 빈도를 보정하는 방법이다.\n",
    "```\n",
    "- 단어 빈도(TF)와 역문서빈도(IDF)를 곱한 값\n",
    " - TF: 단어(**T**erm)의 등장 빈도(**F**requency)\n",
    " - IDF: 특정 단어가 등장한 문서(**D**ocument)의 빈도(**F**requency)의 역수(**I**nverse)\n",
    "- 상대적으로 적은 문서에 나오면서 특정 문서에 자주 나온 단어\n",
    "- TDM에 가중치를 주는 대표적 방법\n",
    " - 단순히 단어가 많거나 적게 사용되는 정도를 보정하는 것이 아니라 단어의 중요성을 보정해줌\n",
    "- 다른 방법들도 사용 가능. 분석 목적에 맞게 사용."
   ]
  },
  {
   "cell_type": "markdown",
   "metadata": {},
   "source": [
    "---\n",
    "# TF-IDF 실습\n",
    "## 데이터 불러오기"
   ]
  },
  {
   "cell_type": "code",
   "execution_count": 1,
   "metadata": {},
   "outputs": [
    {
     "data": {
      "text/html": [
       "<div>\n",
       "<style scoped>\n",
       "    .dataframe tbody tr th:only-of-type {\n",
       "        vertical-align: middle;\n",
       "    }\n",
       "\n",
       "    .dataframe tbody tr th {\n",
       "        vertical-align: top;\n",
       "    }\n",
       "\n",
       "    .dataframe thead th {\n",
       "        text-align: right;\n",
       "    }\n",
       "</style>\n",
       "<table border=\"1\" class=\"dataframe\">\n",
       "  <thead>\n",
       "    <tr style=\"text-align: right;\">\n",
       "      <th></th>\n",
       "      <th>review</th>\n",
       "      <th>sentiment</th>\n",
       "    </tr>\n",
       "  </thead>\n",
       "  <tbody>\n",
       "    <tr>\n",
       "      <th>0</th>\n",
       "      <td>A very, very, very slow-moving, aimless movie ...</td>\n",
       "      <td>0</td>\n",
       "    </tr>\n",
       "    <tr>\n",
       "      <th>1</th>\n",
       "      <td>Not sure who was more lost - the flat characte...</td>\n",
       "      <td>0</td>\n",
       "    </tr>\n",
       "    <tr>\n",
       "      <th>2</th>\n",
       "      <td>Attempting artiness with black &amp; white and cle...</td>\n",
       "      <td>0</td>\n",
       "    </tr>\n",
       "    <tr>\n",
       "      <th>3</th>\n",
       "      <td>Very little music or anything to speak of.</td>\n",
       "      <td>0</td>\n",
       "    </tr>\n",
       "    <tr>\n",
       "      <th>4</th>\n",
       "      <td>The best scene in the movie was when Gerardo i...</td>\n",
       "      <td>1</td>\n",
       "    </tr>\n",
       "  </tbody>\n",
       "</table>\n",
       "</div>"
      ],
      "text/plain": [
       "                                              review  sentiment\n",
       "0  A very, very, very slow-moving, aimless movie ...          0\n",
       "1  Not sure who was more lost - the flat characte...          0\n",
       "2  Attempting artiness with black & white and cle...          0\n",
       "3       Very little music or anything to speak of.            0\n",
       "4  The best scene in the movie was when Gerardo i...          1"
      ]
     },
     "execution_count": 1,
     "metadata": {},
     "output_type": "execute_result"
    }
   ],
   "source": [
    "import pandas as pd\n",
    "df = pd.read_excel('data/imdb.xlsx', index_col=0)\n",
    "df.head()"
   ]
  },
  {
   "cell_type": "markdown",
   "metadata": {},
   "source": [
    "## TF-IDF"
   ]
  },
  {
   "cell_type": "code",
   "execution_count": 2,
   "metadata": {},
   "outputs": [],
   "source": [
    "from sklearn.feature_extraction.text import TfidfVectorizer"
   ]
  },
  {
   "cell_type": "markdown",
   "metadata": {},
   "source": [
    "#### `TfidfVectorizer`의 옵션\n",
    "- `stop_words`: 분석에서 제외할 불용어를 설정하는 옵션\n",
    " - `stop_words='english'`: 영어는 관사, 전치사 등을 제외\n",
    "- `max_features`: 단어문서행렬에 포함시킬 최대(max)의 단어(feature) 수\n",
    " - `max_features=500`: 빈도 순으로 최대 500 단어까지 포함"
   ]
  },
  {
   "cell_type": "code",
   "execution_count": 3,
   "metadata": {},
   "outputs": [],
   "source": [
    "# 초기화\n",
    "tfidf = TfidfVectorizer(max_features=500, stop_words='english')"
   ]
  },
  {
   "cell_type": "code",
   "execution_count": 4,
   "metadata": {},
   "outputs": [
    {
     "data": {
      "text/plain": [
       "<748x500 sparse matrix of type '<class 'numpy.float64'>'\n",
       "\twith 3433 stored elements in Compressed Sparse Row format>"
      ]
     },
     "execution_count": 4,
     "metadata": {},
     "output_type": "execute_result"
    }
   ],
   "source": [
    "# 단어문서행렬 만들기\n",
    "tdm = tfidf.fit_transform(df['review'])\n",
    "\n",
    "# 748개 문서의 500개 피처가 결과로 반환\n",
    "tdm"
   ]
  },
  {
   "cell_type": "markdown",
   "metadata": {},
   "source": [
    "## 단어 빈도순 정렬"
   ]
  },
  {
   "cell_type": "code",
   "execution_count": 5,
   "metadata": {},
   "outputs": [
    {
     "data": {
      "text/html": [
       "<div>\n",
       "<style scoped>\n",
       "    .dataframe tbody tr th:only-of-type {\n",
       "        vertical-align: middle;\n",
       "    }\n",
       "\n",
       "    .dataframe tbody tr th {\n",
       "        vertical-align: top;\n",
       "    }\n",
       "\n",
       "    .dataframe thead th {\n",
       "        text-align: right;\n",
       "    }\n",
       "</style>\n",
       "<table border=\"1\" class=\"dataframe\">\n",
       "  <thead>\n",
       "    <tr style=\"text-align: right;\">\n",
       "      <th></th>\n",
       "      <th>단어</th>\n",
       "      <th>tf-idf</th>\n",
       "    </tr>\n",
       "  </thead>\n",
       "  <tbody>\n",
       "    <tr>\n",
       "      <th>281</th>\n",
       "      <td>movie</td>\n",
       "      <td>43.842614</td>\n",
       "    </tr>\n",
       "    <tr>\n",
       "      <th>155</th>\n",
       "      <td>film</td>\n",
       "      <td>40.296277</td>\n",
       "    </tr>\n",
       "    <tr>\n",
       "      <th>31</th>\n",
       "      <td>bad</td>\n",
       "      <td>25.212655</td>\n",
       "    </tr>\n",
       "    <tr>\n",
       "      <th>227</th>\n",
       "      <td>just</td>\n",
       "      <td>20.498951</td>\n",
       "    </tr>\n",
       "    <tr>\n",
       "      <th>181</th>\n",
       "      <td>good</td>\n",
       "      <td>18.534937</td>\n",
       "    </tr>\n",
       "  </tbody>\n",
       "</table>\n",
       "</div>"
      ],
      "text/plain": [
       "        단어     tf-idf\n",
       "281  movie  43.842614\n",
       "155   film  40.296277\n",
       "31     bad  25.212655\n",
       "227   just  20.498951\n",
       "181   good  18.534937"
      ]
     },
     "execution_count": 5,
     "metadata": {},
     "output_type": "execute_result"
    }
   ],
   "source": [
    "word_count = pd.DataFrame({\n",
    "    '단어': tfidf.get_feature_names(),\n",
    "    'tf-idf': tdm.sum(axis=0).flat\n",
    "})\n",
    "word_count.sort_values('tf-idf', ascending=False).head()"
   ]
  },
  {
   "cell_type": "markdown",
   "metadata": {},
   "source": [
    "대체로 `CountVectorizer`와 크게 차이가 나지는 않지만, 수치 자체가 달라짐"
   ]
  },
  {
   "cell_type": "markdown",
   "metadata": {},
   "source": [
    "## 기존의 TDM에서 변환하기: `TfidfTransformer`\n",
    "`CountVectorizer`로 만든 단어 문서 행렬을 변환"
   ]
  },
  {
   "cell_type": "code",
   "execution_count": 6,
   "metadata": {},
   "outputs": [],
   "source": [
    "from sklearn.feature_extraction.text import CountVectorizer, TfidfTransformer"
   ]
  },
  {
   "cell_type": "code",
   "execution_count": 7,
   "metadata": {},
   "outputs": [],
   "source": [
    "cv = CountVectorizer(max_features=500, stop_words='english')"
   ]
  },
  {
   "cell_type": "code",
   "execution_count": 8,
   "metadata": {},
   "outputs": [],
   "source": [
    "tdm2 = cv.fit_transform(df['review'])"
   ]
  },
  {
   "cell_type": "code",
   "execution_count": 9,
   "metadata": {},
   "outputs": [],
   "source": [
    "trans = TfidfTransformer()"
   ]
  },
  {
   "cell_type": "code",
   "execution_count": 10,
   "metadata": {},
   "outputs": [],
   "source": [
    "tdm3 = trans.fit_transform(tdm2)"
   ]
  },
  {
   "cell_type": "code",
   "execution_count": 11,
   "metadata": {},
   "outputs": [
    {
     "data": {
      "text/html": [
       "<div>\n",
       "<style scoped>\n",
       "    .dataframe tbody tr th:only-of-type {\n",
       "        vertical-align: middle;\n",
       "    }\n",
       "\n",
       "    .dataframe tbody tr th {\n",
       "        vertical-align: top;\n",
       "    }\n",
       "\n",
       "    .dataframe thead th {\n",
       "        text-align: right;\n",
       "    }\n",
       "</style>\n",
       "<table border=\"1\" class=\"dataframe\">\n",
       "  <thead>\n",
       "    <tr style=\"text-align: right;\">\n",
       "      <th></th>\n",
       "      <th>단어</th>\n",
       "      <th>tf-idf</th>\n",
       "    </tr>\n",
       "  </thead>\n",
       "  <tbody>\n",
       "    <tr>\n",
       "      <th>281</th>\n",
       "      <td>movie</td>\n",
       "      <td>43.842614</td>\n",
       "    </tr>\n",
       "    <tr>\n",
       "      <th>155</th>\n",
       "      <td>film</td>\n",
       "      <td>40.296277</td>\n",
       "    </tr>\n",
       "    <tr>\n",
       "      <th>31</th>\n",
       "      <td>bad</td>\n",
       "      <td>25.212655</td>\n",
       "    </tr>\n",
       "    <tr>\n",
       "      <th>227</th>\n",
       "      <td>just</td>\n",
       "      <td>20.498951</td>\n",
       "    </tr>\n",
       "    <tr>\n",
       "      <th>181</th>\n",
       "      <td>good</td>\n",
       "      <td>18.534937</td>\n",
       "    </tr>\n",
       "  </tbody>\n",
       "</table>\n",
       "</div>"
      ],
      "text/plain": [
       "        단어     tf-idf\n",
       "281  movie  43.842614\n",
       "155   film  40.296277\n",
       "31     bad  25.212655\n",
       "227   just  20.498951\n",
       "181   good  18.534937"
      ]
     },
     "execution_count": 11,
     "metadata": {},
     "output_type": "execute_result"
    }
   ],
   "source": [
    "wc2 = pd.DataFrame({\n",
    "    '단어': cv.get_feature_names(),\n",
    "    'tf-idf': tdm3.sum(axis=0).flat\n",
    "})\n",
    "wc2.sort_values('tf-idf', ascending=False).head()"
   ]
  },
  {
   "cell_type": "markdown",
   "metadata": {},
   "source": [
    "## 두 가지 방법으로 만든 TDM의 비교"
   ]
  },
  {
   "cell_type": "code",
   "execution_count": 12,
   "metadata": {},
   "outputs": [],
   "source": [
    "import numpy as np"
   ]
  },
  {
   "cell_type": "code",
   "execution_count": 13,
   "metadata": {},
   "outputs": [
    {
     "data": {
      "text/plain": [
       "True"
      ]
     },
     "execution_count": 13,
     "metadata": {},
     "output_type": "execute_result"
    }
   ],
   "source": [
    "# .allclose로 모든 값이 가까운지 확인\n",
    "# .A로 압축 풀기\n",
    "np.allclose(tdm.A, tdm3.A)"
   ]
  }
 ],
 "metadata": {
  "kernelspec": {
   "display_name": "Python 3",
   "language": "python",
   "name": "python3"
  },
  "language_info": {
   "codemirror_mode": {
    "name": "ipython",
    "version": 3
   },
   "file_extension": ".py",
   "mimetype": "text/x-python",
   "name": "python",
   "nbconvert_exporter": "python",
   "pygments_lexer": "ipython3",
   "version": "3.8.3"
  }
 },
 "nbformat": 4,
 "nbformat_minor": 4
}
